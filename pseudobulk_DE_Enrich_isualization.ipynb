{
 "cells": [
  {
   "cell_type": "markdown",
   "id": "7dc0b43b-bd52-459a-a401-e8f48b0824bd",
   "metadata": {},
   "source": [
    "# Visualization DecoupleR results"
   ]
  },
  {
   "cell_type": "code",
   "execution_count": 1,
   "id": "972590b9-6343-4b6a-9460-ce4d606bff3c",
   "metadata": {},
   "outputs": [],
   "source": [
    "import scanpy as sc\n",
    "import decoupler as dc\n",
    "\n",
    "# Only needed for processing\n",
    "import numpy as np\n",
    "import pandas as pd\n",
    "\n",
    "# Needed for some plotting\n",
    "import matplotlib.pyplot as plt"
   ]
  },
  {
   "cell_type": "markdown",
   "id": "92b048e6-211f-4f94-b0a5-ed9d3c7a566d",
   "metadata": {},
   "source": [
    "## Follow Pseudobulk.ipynb tutorial"
   ]
  },
  {
   "cell_type": "code",
   "execution_count": 2,
   "id": "c6776a16-73a3-4d8d-a943-1b4175cf538b",
   "metadata": {
    "collapsed": true,
    "jupyter": {
     "outputs_hidden": true
    }
   },
   "outputs": [
    {
     "data": {
      "text/plain": [
       "AnnData object with n_obs × n_vars = 6807 × 20522\n",
       "    obs: 'Sample Characteristic[organism]', 'Sample Characteristic Ontology Term[organism]', 'Sample Characteristic[developmental stage]', 'Sample Characteristic Ontology Term[developmental stage]', 'Sample Characteristic[sex]', 'Sample Characteristic Ontology Term[sex]', 'Sample Characteristic[age]', 'Sample Characteristic Ontology Term[age]', 'Sample Characteristic[individual]', 'Sample Characteristic Ontology Term[individual]', 'Sample Characteristic[disease]', 'Sample Characteristic Ontology Term[disease]', 'Sample Characteristic[clinical history]', 'Sample Characteristic Ontology Term[clinical history]', 'Sample Characteristic[organism part]', 'Sample Characteristic Ontology Term[organism part]', 'Factor Value[disease]', 'Factor Value Ontology Term[disease]', 'Factor Value[clinical history]', 'Factor Value Ontology Term[clinical history]', 'Factor Value[sampling time point]', 'Factor Value Ontology Term[sampling time point]', 'Factor Value[inferred cell type - ontology labels]', 'Factor Value Ontology Term[inferred cell type - ontology labels]'"
      ]
     },
     "execution_count": 2,
     "metadata": {},
     "output_type": "execute_result"
    }
   ],
   "source": [
    "adata = sc.read_h5ad(\"E-MTAB-9221/E-MTAB-9221.h5ad\")\n",
    "adata"
   ]
  },
  {
   "cell_type": "code",
   "execution_count": 3,
   "id": "54eb8eed-0c1c-4921-83d6-8f816fde6ecb",
   "metadata": {
    "collapsed": true,
    "jupyter": {
     "outputs_hidden": true
    },
    "scrolled": true
   },
   "outputs": [
    {
     "name": "stderr",
     "output_type": "stream",
     "text": [
      "/tmp/ipykernel_91008/991214121.py:18: ImplicitModificationWarning: Trying to modify attribute `.var` of view, initializing view as actual.\n",
      "  adata.var['gene_symbol'] = [annot.loc[ensembl_id,'external_gene_name'] for ensembl_id in adata.var.index]\n",
      "/lustre/scratch126/cellgen/team205/sl37/conda_envs/hackathon/lib/python3.9/site-packages/anndata/_core/anndata.py:1900: UserWarning: Variable names are not unique. To make them unique, call `.var_names_make_unique`.\n",
      "  utils.warn_names_duplicates(\"var\")\n",
      "/tmp/ipykernel_91008/991214121.py:32: ImplicitModificationWarning: Setting element `.layers['counts']` of view, initializing view as actual.\n",
      "  adata.layers['counts'] = adata.X\n",
      "/lustre/scratch126/cellgen/team205/sl37/conda_envs/hackathon/lib/python3.9/site-packages/scanpy/preprocessing/_highly_variable_genes.py:215: FutureWarning: The default of observed=False is deprecated and will be changed to True in a future version of pandas. Pass observed=False to retain current behavior or observed=True to adopt the future default and silence this warning.\n",
      "  disp_grouped = df.groupby('mean_bin')['dispersions']\n",
      "/lustre/scratch126/cellgen/team205/sl37/conda_envs/hackathon/lib/python3.9/site-packages/scanpy/preprocessing/_highly_variable_genes.py:215: FutureWarning: The default of observed=False is deprecated and will be changed to True in a future version of pandas. Pass observed=False to retain current behavior or observed=True to adopt the future default and silence this warning.\n",
      "  disp_grouped = df.groupby('mean_bin')['dispersions']\n",
      "/lustre/scratch126/cellgen/team205/sl37/conda_envs/hackathon/lib/python3.9/site-packages/scanpy/preprocessing/_highly_variable_genes.py:215: FutureWarning: The default of observed=False is deprecated and will be changed to True in a future version of pandas. Pass observed=False to retain current behavior or observed=True to adopt the future default and silence this warning.\n",
      "  disp_grouped = df.groupby('mean_bin')['dispersions']\n",
      "/lustre/scratch126/cellgen/team205/sl37/conda_envs/hackathon/lib/python3.9/site-packages/scanpy/preprocessing/_highly_variable_genes.py:215: FutureWarning: The default of observed=False is deprecated and will be changed to True in a future version of pandas. Pass observed=False to retain current behavior or observed=True to adopt the future default and silence this warning.\n",
      "  disp_grouped = df.groupby('mean_bin')['dispersions']\n",
      "/lustre/scratch126/cellgen/team205/sl37/conda_envs/hackathon/lib/python3.9/site-packages/scanpy/preprocessing/_highly_variable_genes.py:215: FutureWarning: The default of observed=False is deprecated and will be changed to True in a future version of pandas. Pass observed=False to retain current behavior or observed=True to adopt the future default and silence this warning.\n",
      "  disp_grouped = df.groupby('mean_bin')['dispersions']\n",
      "/lustre/scratch126/cellgen/team205/sl37/conda_envs/hackathon/lib/python3.9/site-packages/scanpy/preprocessing/_highly_variable_genes.py:215: FutureWarning: The default of observed=False is deprecated and will be changed to True in a future version of pandas. Pass observed=False to retain current behavior or observed=True to adopt the future default and silence this warning.\n",
      "  disp_grouped = df.groupby('mean_bin')['dispersions']\n",
      "/lustre/scratch126/cellgen/team205/sl37/conda_envs/hackathon/lib/python3.9/site-packages/scanpy/preprocessing/_highly_variable_genes.py:215: FutureWarning: The default of observed=False is deprecated and will be changed to True in a future version of pandas. Pass observed=False to retain current behavior or observed=True to adopt the future default and silence this warning.\n",
      "  disp_grouped = df.groupby('mean_bin')['dispersions']\n",
      "/lustre/scratch126/cellgen/team205/sl37/conda_envs/hackathon/lib/python3.9/site-packages/scanpy/preprocessing/_highly_variable_genes.py:494: FutureWarning: The provided callable <function nanmean at 0x14d700ef0040> is currently using SeriesGroupBy.mean. In a future version of pandas, the provided callable will be used directly. To keep current behavior pass the string \"mean\" instead.\n",
      "  df = df.groupby('gene').agg(\n",
      "/lustre/scratch126/cellgen/team205/sl37/conda_envs/hackathon/lib/python3.9/site-packages/scanpy/preprocessing/_highly_variable_genes.py:494: FutureWarning: The provided callable <function nanmean at 0x14d700ef0040> is currently using SeriesGroupBy.mean. In a future version of pandas, the provided callable will be used directly. To keep current behavior pass the string \"mean\" instead.\n",
      "  df = df.groupby('gene').agg(\n",
      "/lustre/scratch126/cellgen/team205/sl37/conda_envs/hackathon/lib/python3.9/site-packages/scanpy/preprocessing/_highly_variable_genes.py:494: FutureWarning: The provided callable <function nansum at 0x14d700eed940> is currently using SeriesGroupBy.sum. In a future version of pandas, the provided callable will be used directly. To keep current behavior pass the string \"sum\" instead.\n",
      "  df = df.groupby('gene').agg(\n",
      "/lustre/scratch126/cellgen/team205/sl37/conda_envs/hackathon/lib/python3.9/site-packages/decoupler/utils_anndata.py:181: FutureWarning: The default of observed=False is deprecated and will be changed to True in a future version of pandas. Pass observed=False to retain current behavior or observed=True to adopt the future default and silence this warning.\n",
      "  cols = obs.groupby([sample_col, groups_col]).apply(lambda x: x.apply(lambda y: len(y.unique()) == 1)).all(0)\n",
      "/lustre/scratch126/cellgen/team205/sl37/conda_envs/hackathon/lib/python3.9/site-packages/anndata/_core/anndata.py:522: FutureWarning: The dtype argument is deprecated and will be removed in late 2024.\n",
      "  warnings.warn(\n",
      "/lustre/scratch126/cellgen/team205/sl37/conda_envs/hackathon/lib/python3.9/site-packages/decoupler/utils_anndata.py:181: FutureWarning: The default of observed=False is deprecated and will be changed to True in a future version of pandas. Pass observed=False to retain current behavior or observed=True to adopt the future default and silence this warning.\n",
      "  cols = obs.groupby([sample_col, groups_col]).apply(lambda x: x.apply(lambda y: len(y.unique()) == 1)).all(0)\n",
      "/lustre/scratch126/cellgen/team205/sl37/conda_envs/hackathon/lib/python3.9/site-packages/anndata/_core/anndata.py:522: FutureWarning: The dtype argument is deprecated and will be removed in late 2024.\n",
      "  warnings.warn(\n"
     ]
    }
   ],
   "source": [
    "# Rename meta-data\n",
    "columns = ['Sample Characteristic[sex]',\n",
    "           'Sample Characteristic[individual]',\n",
    "           'Sample Characteristic[disease]',\n",
    "           'Factor Value[inferred cell type - ontology labels]']\n",
    "adata.obs = adata.obs[columns]\n",
    "adata.obs.columns = ['sex','individual','disease','cell_type']\n",
    "# Retrieve gene symbols\n",
    "annot = sc.queries.biomart_annotations(\"hsapiens\",\n",
    "        [\"ensembl_gene_id\", \"external_gene_name\"],\n",
    "        use_cache=True\n",
    "    ).set_index(\"ensembl_gene_id\")\n",
    "\n",
    "# Filter genes not in annotation\n",
    "adata = adata[:, adata.var.index.intersection(annot.index)]\n",
    "\n",
    "# Assign gene symbols\n",
    "adata.var['gene_symbol'] = [annot.loc[ensembl_id,'external_gene_name'] for ensembl_id in adata.var.index]\n",
    "adata.var = adata.var.reset_index().rename(columns={'index': 'ensembl_gene_id'}).set_index('gene_symbol')\n",
    "\n",
    "# Remove genes with no gene symbol\n",
    "adata = adata[:, ~pd.isnull(adata.var.index)]\n",
    "\n",
    "# Remove duplicates\n",
    "adata.var_names_make_unique()\n",
    "\n",
    "# Remove non-annotated cells\n",
    "adata = adata[~adata.obs['cell_type'].isnull()]\n",
    "\n",
    "# Store raw counts in layers\n",
    "adata.X = np.round(adata.X)\n",
    "adata.layers['counts'] = adata.X\n",
    "\n",
    "# Normalize and log-transform\n",
    "sc.pp.normalize_total(adata, target_sum=1e4)\n",
    "sc.pp.log1p(adata)\n",
    "adata.layers['normalized'] = adata.X\n",
    "\n",
    "# Identify highly variable genes\n",
    "sc.pp.highly_variable_genes(adata, batch_key='individual')\n",
    "\n",
    "# Scale the data\n",
    "sc.pp.scale(adata, max_value=10)\n",
    "\n",
    "# Generate PCA features\n",
    "sc.tl.pca(adata, svd_solver='arpack', use_highly_variable=True)\n",
    "\n",
    "# Compute distances in the PCA space, and find cell neighbors\n",
    "sc.pp.neighbors(adata)\n",
    "\n",
    "# Generate UMAP features\n",
    "sc.tl.umap(adata)\n",
    "\n",
    "# Get pseudo-bulk profile\n",
    "pdata = dc.get_pseudobulk(\n",
    "    adata,\n",
    "    sample_col='individual',\n",
    "    groups_col='cell_type',\n",
    "    layer='counts',\n",
    "    mode='sum',\n",
    "    min_cells=0,\n",
    "    min_counts=0\n",
    ")\n",
    "# Get filtered pseudo-bulk profile\n",
    "pdata = dc.get_pseudobulk(\n",
    "    adata,\n",
    "    sample_col='individual',\n",
    "    groups_col='cell_type',\n",
    "    layer='counts',\n",
    "    mode='sum',\n",
    "    min_cells=10,\n",
    "    min_counts=1000\n",
    ")\n",
    "\n",
    "pp_pdata = pdata.copy()\n",
    "sc.pp.normalize_total(pp_pdata, target_sum=1e6)\n",
    "sc.pp.log1p(pp_pdata)\n",
    "sc.pp.scale(pp_pdata, max_value=10)\n",
    "sc.tl.pca(pp_pdata, n_comps=10)"
   ]
  },
  {
   "cell_type": "code",
   "execution_count": 4,
   "id": "f5c3f6d9-6aaa-4e40-91d5-bcf3faafb18d",
   "metadata": {
    "collapsed": true,
    "jupyter": {
     "outputs_hidden": true
    },
    "scrolled": true
   },
   "outputs": [
    {
     "name": "stderr",
     "output_type": "stream",
     "text": [
      "  0%|                                                                                                           | 0/10 [00:00<?, ?it/s]/lustre/scratch126/cellgen/team205/sl37/conda_envs/hackathon/lib/python3.9/site-packages/decoupler/utils_anndata.py:1093: FutureWarning: Series.__getitem__ treating keys as positions is deprecated. In a future version, integer keys will always be treated as labels (consistent with DataFrame behavior). To access a value by position, use `ser.iloc[pos]`\n",
      "  row = [explainer, aov_table['PR(>F)'][0], eta_sq]\n",
      "/lustre/scratch126/cellgen/team205/sl37/conda_envs/hackathon/lib/python3.9/site-packages/decoupler/utils_anndata.py:1093: FutureWarning: Series.__getitem__ treating keys as positions is deprecated. In a future version, integer keys will always be treated as labels (consistent with DataFrame behavior). To access a value by position, use `ser.iloc[pos]`\n",
      "  row = [explainer, aov_table['PR(>F)'][0], eta_sq]\n",
      "/lustre/scratch126/cellgen/team205/sl37/conda_envs/hackathon/lib/python3.9/site-packages/decoupler/utils_anndata.py:1093: FutureWarning: Series.__getitem__ treating keys as positions is deprecated. In a future version, integer keys will always be treated as labels (consistent with DataFrame behavior). To access a value by position, use `ser.iloc[pos]`\n",
      "  row = [explainer, aov_table['PR(>F)'][0], eta_sq]\n",
      "/lustre/scratch126/cellgen/team205/sl37/conda_envs/hackathon/lib/python3.9/site-packages/decoupler/utils_anndata.py:1093: FutureWarning: Series.__getitem__ treating keys as positions is deprecated. In a future version, integer keys will always be treated as labels (consistent with DataFrame behavior). To access a value by position, use `ser.iloc[pos]`\n",
      "  row = [explainer, aov_table['PR(>F)'][0], eta_sq]\n",
      "/lustre/scratch126/cellgen/team205/sl37/conda_envs/hackathon/lib/python3.9/site-packages/decoupler/utils_anndata.py:1093: FutureWarning: Series.__getitem__ treating keys as positions is deprecated. In a future version, integer keys will always be treated as labels (consistent with DataFrame behavior). To access a value by position, use `ser.iloc[pos]`\n",
      "  row = [explainer, aov_table['PR(>F)'][0], eta_sq]\n",
      " 10%|█████████▉                                                                                         | 1/10 [00:00<00:01,  7.43it/s]/lustre/scratch126/cellgen/team205/sl37/conda_envs/hackathon/lib/python3.9/site-packages/decoupler/utils_anndata.py:1093: FutureWarning: Series.__getitem__ treating keys as positions is deprecated. In a future version, integer keys will always be treated as labels (consistent with DataFrame behavior). To access a value by position, use `ser.iloc[pos]`\n",
      "  row = [explainer, aov_table['PR(>F)'][0], eta_sq]\n",
      "/lustre/scratch126/cellgen/team205/sl37/conda_envs/hackathon/lib/python3.9/site-packages/decoupler/utils_anndata.py:1093: FutureWarning: Series.__getitem__ treating keys as positions is deprecated. In a future version, integer keys will always be treated as labels (consistent with DataFrame behavior). To access a value by position, use `ser.iloc[pos]`\n",
      "  row = [explainer, aov_table['PR(>F)'][0], eta_sq]\n",
      "/lustre/scratch126/cellgen/team205/sl37/conda_envs/hackathon/lib/python3.9/site-packages/decoupler/utils_anndata.py:1093: FutureWarning: Series.__getitem__ treating keys as positions is deprecated. In a future version, integer keys will always be treated as labels (consistent with DataFrame behavior). To access a value by position, use `ser.iloc[pos]`\n",
      "  row = [explainer, aov_table['PR(>F)'][0], eta_sq]\n",
      "/lustre/scratch126/cellgen/team205/sl37/conda_envs/hackathon/lib/python3.9/site-packages/decoupler/utils_anndata.py:1093: FutureWarning: Series.__getitem__ treating keys as positions is deprecated. In a future version, integer keys will always be treated as labels (consistent with DataFrame behavior). To access a value by position, use `ser.iloc[pos]`\n",
      "  row = [explainer, aov_table['PR(>F)'][0], eta_sq]\n",
      "/lustre/scratch126/cellgen/team205/sl37/conda_envs/hackathon/lib/python3.9/site-packages/decoupler/utils_anndata.py:1093: FutureWarning: Series.__getitem__ treating keys as positions is deprecated. In a future version, integer keys will always be treated as labels (consistent with DataFrame behavior). To access a value by position, use `ser.iloc[pos]`\n",
      "  row = [explainer, aov_table['PR(>F)'][0], eta_sq]\n",
      "/lustre/scratch126/cellgen/team205/sl37/conda_envs/hackathon/lib/python3.9/site-packages/decoupler/utils_anndata.py:1093: FutureWarning: Series.__getitem__ treating keys as positions is deprecated. In a future version, integer keys will always be treated as labels (consistent with DataFrame behavior). To access a value by position, use `ser.iloc[pos]`\n",
      "  row = [explainer, aov_table['PR(>F)'][0], eta_sq]\n",
      "/lustre/scratch126/cellgen/team205/sl37/conda_envs/hackathon/lib/python3.9/site-packages/decoupler/utils_anndata.py:1093: FutureWarning: Series.__getitem__ treating keys as positions is deprecated. In a future version, integer keys will always be treated as labels (consistent with DataFrame behavior). To access a value by position, use `ser.iloc[pos]`\n",
      "  row = [explainer, aov_table['PR(>F)'][0], eta_sq]\n",
      "/lustre/scratch126/cellgen/team205/sl37/conda_envs/hackathon/lib/python3.9/site-packages/decoupler/utils_anndata.py:1093: FutureWarning: Series.__getitem__ treating keys as positions is deprecated. In a future version, integer keys will always be treated as labels (consistent with DataFrame behavior). To access a value by position, use `ser.iloc[pos]`\n",
      "  row = [explainer, aov_table['PR(>F)'][0], eta_sq]\n",
      "/lustre/scratch126/cellgen/team205/sl37/conda_envs/hackathon/lib/python3.9/site-packages/decoupler/utils_anndata.py:1093: FutureWarning: Series.__getitem__ treating keys as positions is deprecated. In a future version, integer keys will always be treated as labels (consistent with DataFrame behavior). To access a value by position, use `ser.iloc[pos]`\n",
      "  row = [explainer, aov_table['PR(>F)'][0], eta_sq]\n",
      "/lustre/scratch126/cellgen/team205/sl37/conda_envs/hackathon/lib/python3.9/site-packages/decoupler/utils_anndata.py:1093: FutureWarning: Series.__getitem__ treating keys as positions is deprecated. In a future version, integer keys will always be treated as labels (consistent with DataFrame behavior). To access a value by position, use `ser.iloc[pos]`\n",
      "  row = [explainer, aov_table['PR(>F)'][0], eta_sq]\n",
      "/lustre/scratch126/cellgen/team205/sl37/conda_envs/hackathon/lib/python3.9/site-packages/decoupler/utils_anndata.py:1093: FutureWarning: Series.__getitem__ treating keys as positions is deprecated. In a future version, integer keys will always be treated as labels (consistent with DataFrame behavior). To access a value by position, use `ser.iloc[pos]`\n",
      "  row = [explainer, aov_table['PR(>F)'][0], eta_sq]\n",
      "/lustre/scratch126/cellgen/team205/sl37/conda_envs/hackathon/lib/python3.9/site-packages/decoupler/utils_anndata.py:1093: FutureWarning: Series.__getitem__ treating keys as positions is deprecated. In a future version, integer keys will always be treated as labels (consistent with DataFrame behavior). To access a value by position, use `ser.iloc[pos]`\n",
      "  row = [explainer, aov_table['PR(>F)'][0], eta_sq]\n",
      "/lustre/scratch126/cellgen/team205/sl37/conda_envs/hackathon/lib/python3.9/site-packages/decoupler/utils_anndata.py:1093: FutureWarning: Series.__getitem__ treating keys as positions is deprecated. In a future version, integer keys will always be treated as labels (consistent with DataFrame behavior). To access a value by position, use `ser.iloc[pos]`\n",
      "  row = [explainer, aov_table['PR(>F)'][0], eta_sq]\n",
      "/lustre/scratch126/cellgen/team205/sl37/conda_envs/hackathon/lib/python3.9/site-packages/decoupler/utils_anndata.py:1093: FutureWarning: Series.__getitem__ treating keys as positions is deprecated. In a future version, integer keys will always be treated as labels (consistent with DataFrame behavior). To access a value by position, use `ser.iloc[pos]`\n",
      "  row = [explainer, aov_table['PR(>F)'][0], eta_sq]\n",
      "/lustre/scratch126/cellgen/team205/sl37/conda_envs/hackathon/lib/python3.9/site-packages/decoupler/utils_anndata.py:1093: FutureWarning: Series.__getitem__ treating keys as positions is deprecated. In a future version, integer keys will always be treated as labels (consistent with DataFrame behavior). To access a value by position, use `ser.iloc[pos]`\n",
      "  row = [explainer, aov_table['PR(>F)'][0], eta_sq]\n",
      "/lustre/scratch126/cellgen/team205/sl37/conda_envs/hackathon/lib/python3.9/site-packages/decoupler/utils_anndata.py:1093: FutureWarning: Series.__getitem__ treating keys as positions is deprecated. In a future version, integer keys will always be treated as labels (consistent with DataFrame behavior). To access a value by position, use `ser.iloc[pos]`\n",
      "  row = [explainer, aov_table['PR(>F)'][0], eta_sq]\n",
      "/lustre/scratch126/cellgen/team205/sl37/conda_envs/hackathon/lib/python3.9/site-packages/decoupler/utils_anndata.py:1093: FutureWarning: Series.__getitem__ treating keys as positions is deprecated. In a future version, integer keys will always be treated as labels (consistent with DataFrame behavior). To access a value by position, use `ser.iloc[pos]`\n",
      "  row = [explainer, aov_table['PR(>F)'][0], eta_sq]\n",
      "/lustre/scratch126/cellgen/team205/sl37/conda_envs/hackathon/lib/python3.9/site-packages/decoupler/utils_anndata.py:1093: FutureWarning: Series.__getitem__ treating keys as positions is deprecated. In a future version, integer keys will always be treated as labels (consistent with DataFrame behavior). To access a value by position, use `ser.iloc[pos]`\n",
      "  row = [explainer, aov_table['PR(>F)'][0], eta_sq]\n",
      "/lustre/scratch126/cellgen/team205/sl37/conda_envs/hackathon/lib/python3.9/site-packages/decoupler/utils_anndata.py:1093: FutureWarning: Series.__getitem__ treating keys as positions is deprecated. In a future version, integer keys will always be treated as labels (consistent with DataFrame behavior). To access a value by position, use `ser.iloc[pos]`\n",
      "  row = [explainer, aov_table['PR(>F)'][0], eta_sq]\n",
      "/lustre/scratch126/cellgen/team205/sl37/conda_envs/hackathon/lib/python3.9/site-packages/decoupler/utils_anndata.py:1093: FutureWarning: Series.__getitem__ treating keys as positions is deprecated. In a future version, integer keys will always be treated as labels (consistent with DataFrame behavior). To access a value by position, use `ser.iloc[pos]`\n",
      "  row = [explainer, aov_table['PR(>F)'][0], eta_sq]\n",
      " 50%|█████████████████████████████████████████████████▌                                                 | 5/10 [00:00<00:00, 21.85it/s]/lustre/scratch126/cellgen/team205/sl37/conda_envs/hackathon/lib/python3.9/site-packages/decoupler/utils_anndata.py:1093: FutureWarning: Series.__getitem__ treating keys as positions is deprecated. In a future version, integer keys will always be treated as labels (consistent with DataFrame behavior). To access a value by position, use `ser.iloc[pos]`\n",
      "  row = [explainer, aov_table['PR(>F)'][0], eta_sq]\n",
      "/lustre/scratch126/cellgen/team205/sl37/conda_envs/hackathon/lib/python3.9/site-packages/decoupler/utils_anndata.py:1093: FutureWarning: Series.__getitem__ treating keys as positions is deprecated. In a future version, integer keys will always be treated as labels (consistent with DataFrame behavior). To access a value by position, use `ser.iloc[pos]`\n",
      "  row = [explainer, aov_table['PR(>F)'][0], eta_sq]\n",
      "/lustre/scratch126/cellgen/team205/sl37/conda_envs/hackathon/lib/python3.9/site-packages/decoupler/utils_anndata.py:1093: FutureWarning: Series.__getitem__ treating keys as positions is deprecated. In a future version, integer keys will always be treated as labels (consistent with DataFrame behavior). To access a value by position, use `ser.iloc[pos]`\n",
      "  row = [explainer, aov_table['PR(>F)'][0], eta_sq]\n",
      "/lustre/scratch126/cellgen/team205/sl37/conda_envs/hackathon/lib/python3.9/site-packages/decoupler/utils_anndata.py:1093: FutureWarning: Series.__getitem__ treating keys as positions is deprecated. In a future version, integer keys will always be treated as labels (consistent with DataFrame behavior). To access a value by position, use `ser.iloc[pos]`\n",
      "  row = [explainer, aov_table['PR(>F)'][0], eta_sq]\n",
      "/lustre/scratch126/cellgen/team205/sl37/conda_envs/hackathon/lib/python3.9/site-packages/decoupler/utils_anndata.py:1093: FutureWarning: Series.__getitem__ treating keys as positions is deprecated. In a future version, integer keys will always be treated as labels (consistent with DataFrame behavior). To access a value by position, use `ser.iloc[pos]`\n",
      "  row = [explainer, aov_table['PR(>F)'][0], eta_sq]\n",
      "/lustre/scratch126/cellgen/team205/sl37/conda_envs/hackathon/lib/python3.9/site-packages/decoupler/utils_anndata.py:1093: FutureWarning: Series.__getitem__ treating keys as positions is deprecated. In a future version, integer keys will always be treated as labels (consistent with DataFrame behavior). To access a value by position, use `ser.iloc[pos]`\n",
      "  row = [explainer, aov_table['PR(>F)'][0], eta_sq]\n",
      "/lustre/scratch126/cellgen/team205/sl37/conda_envs/hackathon/lib/python3.9/site-packages/decoupler/utils_anndata.py:1093: FutureWarning: Series.__getitem__ treating keys as positions is deprecated. In a future version, integer keys will always be treated as labels (consistent with DataFrame behavior). To access a value by position, use `ser.iloc[pos]`\n",
      "  row = [explainer, aov_table['PR(>F)'][0], eta_sq]\n",
      "/lustre/scratch126/cellgen/team205/sl37/conda_envs/hackathon/lib/python3.9/site-packages/decoupler/utils_anndata.py:1093: FutureWarning: Series.__getitem__ treating keys as positions is deprecated. In a future version, integer keys will always be treated as labels (consistent with DataFrame behavior). To access a value by position, use `ser.iloc[pos]`\n",
      "  row = [explainer, aov_table['PR(>F)'][0], eta_sq]\n",
      "/lustre/scratch126/cellgen/team205/sl37/conda_envs/hackathon/lib/python3.9/site-packages/decoupler/utils_anndata.py:1093: FutureWarning: Series.__getitem__ treating keys as positions is deprecated. In a future version, integer keys will always be treated as labels (consistent with DataFrame behavior). To access a value by position, use `ser.iloc[pos]`\n",
      "  row = [explainer, aov_table['PR(>F)'][0], eta_sq]\n",
      "/lustre/scratch126/cellgen/team205/sl37/conda_envs/hackathon/lib/python3.9/site-packages/decoupler/utils_anndata.py:1093: FutureWarning: Series.__getitem__ treating keys as positions is deprecated. In a future version, integer keys will always be treated as labels (consistent with DataFrame behavior). To access a value by position, use `ser.iloc[pos]`\n",
      "  row = [explainer, aov_table['PR(>F)'][0], eta_sq]\n",
      "/lustre/scratch126/cellgen/team205/sl37/conda_envs/hackathon/lib/python3.9/site-packages/decoupler/utils_anndata.py:1093: FutureWarning: Series.__getitem__ treating keys as positions is deprecated. In a future version, integer keys will always be treated as labels (consistent with DataFrame behavior). To access a value by position, use `ser.iloc[pos]`\n",
      "  row = [explainer, aov_table['PR(>F)'][0], eta_sq]\n",
      "/lustre/scratch126/cellgen/team205/sl37/conda_envs/hackathon/lib/python3.9/site-packages/decoupler/utils_anndata.py:1093: FutureWarning: Series.__getitem__ treating keys as positions is deprecated. In a future version, integer keys will always be treated as labels (consistent with DataFrame behavior). To access a value by position, use `ser.iloc[pos]`\n",
      "  row = [explainer, aov_table['PR(>F)'][0], eta_sq]\n",
      "/lustre/scratch126/cellgen/team205/sl37/conda_envs/hackathon/lib/python3.9/site-packages/decoupler/utils_anndata.py:1093: FutureWarning: Series.__getitem__ treating keys as positions is deprecated. In a future version, integer keys will always be treated as labels (consistent with DataFrame behavior). To access a value by position, use `ser.iloc[pos]`\n",
      "  row = [explainer, aov_table['PR(>F)'][0], eta_sq]\n",
      "/lustre/scratch126/cellgen/team205/sl37/conda_envs/hackathon/lib/python3.9/site-packages/decoupler/utils_anndata.py:1093: FutureWarning: Series.__getitem__ treating keys as positions is deprecated. In a future version, integer keys will always be treated as labels (consistent with DataFrame behavior). To access a value by position, use `ser.iloc[pos]`\n",
      "  row = [explainer, aov_table['PR(>F)'][0], eta_sq]\n",
      "/lustre/scratch126/cellgen/team205/sl37/conda_envs/hackathon/lib/python3.9/site-packages/decoupler/utils_anndata.py:1093: FutureWarning: Series.__getitem__ treating keys as positions is deprecated. In a future version, integer keys will always be treated as labels (consistent with DataFrame behavior). To access a value by position, use `ser.iloc[pos]`\n",
      "  row = [explainer, aov_table['PR(>F)'][0], eta_sq]\n",
      "/lustre/scratch126/cellgen/team205/sl37/conda_envs/hackathon/lib/python3.9/site-packages/decoupler/utils_anndata.py:1093: FutureWarning: Series.__getitem__ treating keys as positions is deprecated. In a future version, integer keys will always be treated as labels (consistent with DataFrame behavior). To access a value by position, use `ser.iloc[pos]`\n",
      "  row = [explainer, aov_table['PR(>F)'][0], eta_sq]\n",
      "/lustre/scratch126/cellgen/team205/sl37/conda_envs/hackathon/lib/python3.9/site-packages/decoupler/utils_anndata.py:1093: FutureWarning: Series.__getitem__ treating keys as positions is deprecated. In a future version, integer keys will always be treated as labels (consistent with DataFrame behavior). To access a value by position, use `ser.iloc[pos]`\n",
      "  row = [explainer, aov_table['PR(>F)'][0], eta_sq]\n",
      "/lustre/scratch126/cellgen/team205/sl37/conda_envs/hackathon/lib/python3.9/site-packages/decoupler/utils_anndata.py:1093: FutureWarning: Series.__getitem__ treating keys as positions is deprecated. In a future version, integer keys will always be treated as labels (consistent with DataFrame behavior). To access a value by position, use `ser.iloc[pos]`\n",
      "  row = [explainer, aov_table['PR(>F)'][0], eta_sq]\n",
      "/lustre/scratch126/cellgen/team205/sl37/conda_envs/hackathon/lib/python3.9/site-packages/decoupler/utils_anndata.py:1093: FutureWarning: Series.__getitem__ treating keys as positions is deprecated. In a future version, integer keys will always be treated as labels (consistent with DataFrame behavior). To access a value by position, use `ser.iloc[pos]`\n",
      "  row = [explainer, aov_table['PR(>F)'][0], eta_sq]\n",
      "/lustre/scratch126/cellgen/team205/sl37/conda_envs/hackathon/lib/python3.9/site-packages/decoupler/utils_anndata.py:1093: FutureWarning: Series.__getitem__ treating keys as positions is deprecated. In a future version, integer keys will always be treated as labels (consistent with DataFrame behavior). To access a value by position, use `ser.iloc[pos]`\n",
      "  row = [explainer, aov_table['PR(>F)'][0], eta_sq]\n",
      " 90%|█████████████████████████████████████████████████████████████████████████████████████████          | 9/10 [00:00<00:00, 27.09it/s]/lustre/scratch126/cellgen/team205/sl37/conda_envs/hackathon/lib/python3.9/site-packages/decoupler/utils_anndata.py:1093: FutureWarning: Series.__getitem__ treating keys as positions is deprecated. In a future version, integer keys will always be treated as labels (consistent with DataFrame behavior). To access a value by position, use `ser.iloc[pos]`\n",
      "  row = [explainer, aov_table['PR(>F)'][0], eta_sq]\n",
      "/lustre/scratch126/cellgen/team205/sl37/conda_envs/hackathon/lib/python3.9/site-packages/decoupler/utils_anndata.py:1093: FutureWarning: Series.__getitem__ treating keys as positions is deprecated. In a future version, integer keys will always be treated as labels (consistent with DataFrame behavior). To access a value by position, use `ser.iloc[pos]`\n",
      "  row = [explainer, aov_table['PR(>F)'][0], eta_sq]\n",
      "/lustre/scratch126/cellgen/team205/sl37/conda_envs/hackathon/lib/python3.9/site-packages/decoupler/utils_anndata.py:1093: FutureWarning: Series.__getitem__ treating keys as positions is deprecated. In a future version, integer keys will always be treated as labels (consistent with DataFrame behavior). To access a value by position, use `ser.iloc[pos]`\n",
      "  row = [explainer, aov_table['PR(>F)'][0], eta_sq]\n",
      "/lustre/scratch126/cellgen/team205/sl37/conda_envs/hackathon/lib/python3.9/site-packages/decoupler/utils_anndata.py:1093: FutureWarning: Series.__getitem__ treating keys as positions is deprecated. In a future version, integer keys will always be treated as labels (consistent with DataFrame behavior). To access a value by position, use `ser.iloc[pos]`\n",
      "  row = [explainer, aov_table['PR(>F)'][0], eta_sq]\n",
      "/lustre/scratch126/cellgen/team205/sl37/conda_envs/hackathon/lib/python3.9/site-packages/decoupler/utils_anndata.py:1093: FutureWarning: Series.__getitem__ treating keys as positions is deprecated. In a future version, integer keys will always be treated as labels (consistent with DataFrame behavior). To access a value by position, use `ser.iloc[pos]`\n",
      "  row = [explainer, aov_table['PR(>F)'][0], eta_sq]\n",
      "100%|██████████████████████████████████████████████████████████████████████████████████████████████████| 10/10 [00:00<00:00, 24.19it/s]\n"
     ]
    }
   ],
   "source": [
    "dc.get_metadata_associations(\n",
    "    pp_pdata,\n",
    "    obs_keys = ['sex', 'disease', 'cell_type', 'psbulk_n_cells', 'psbulk_counts'], #metadata columns to associate to PCs\n",
    "    obsm_key='X_pca',  # where the PCs are stored\n",
    "    uns_key='pca_anova',  # where the results are stored\n",
    "    inplace=True\n",
    ")"
   ]
  },
  {
   "cell_type": "code",
   "execution_count": 5,
   "id": "e42a688a-91c7-40b0-b689-d5e50e2aa2a1",
   "metadata": {
    "collapsed": true,
    "jupyter": {
     "outputs_hidden": true
    }
   },
   "outputs": [
    {
     "name": "stderr",
     "output_type": "stream",
     "text": [
      "/lustre/scratch126/cellgen/team205/sl37/conda_envs/hackathon/lib/python3.9/site-packages/matplotlib/lines.py:1205: FutureWarning: elementwise comparison failed; returning scalar instead, but in the future will perform elementwise comparison\n",
      "  neq = current != val\n"
     ]
    },
    {
     "data": {
      "image/png": "[encoded data removed]",
      "text/plain": [
       "<Figure size 877.639x577.792 with 10 Axes>"
      ]
     },
     "metadata": {},
     "output_type": "display_data"
    }
   ],
   "source": [
    "# pp_pdata = sc.read_h5ad(\"problem_plot.h5ad\")\n",
    "pvals_df = pp_pdata.uns['pca_anova'].pivot(index='variable', columns='factor', values='p_adj').dropna()\n",
    "neglog_p_df = pd.DataFrame(data=-np.log10(pvals_df.values),\n",
    "                           index=list(pvals_df.index),\n",
    "                           columns=list(pvals_df.columns))\n",
    "pcs_df = pd.DataFrame(data=pp_pdata.obsm['X_pca'],\n",
    "                      columns=[f'PC{ind}' for ind in range(10)],\n",
    "                      index=pp_pdata.obs.index).reset_index().drop('index', axis=1)\n",
    "\n",
    "import marsilea as ma\n",
    "import marsilea.plotter as mp\n",
    "from marsilea.plotter import MarkerMesh\n",
    "\n",
    "h1 = ma.Heatmap(neglog_p_df, cmap=\"Blues\", width=4, height=1, name=\"h1\")\n",
    "h1.add_title(top=\"PCs\", align=\"left\")\n",
    "h1.add_legends()\n",
    "h1.add_dendrogram(\"left\")\n",
    "h1.add_right(mp.Labels(neglog_p_df.index, fontsize=10))\n",
    "\n",
    "h2 = ma.Heatmap(pcs_df.values, cmap=\"Greens\", width=0.4, height=4, name=\"h2\")\n",
    "h2.add_legends()\n",
    "h2.add_dendrogram(\"left\")\n",
    "\n",
    "disease_cat = list(pp_pdata.obs['disease'].values)\n",
    "disease_colors = mp.Colors(disease_cat, cmap=\"Set2\", label=\"Disease\")\n",
    "\n",
    "celltype_cat = list(pp_pdata.obs['cell_type'].values)\n",
    "celltype_colors = mp.Colors(celltype_cat, cmap=\"Set2\", label=\"Cell type\")\n",
    "\n",
    "\n",
    "h2.add_right(disease_colors, pad=0.1, size=0.2)\n",
    "h2.add_right(celltype_colors, pad=0.1, size=0.2)\n",
    "h2.add_bottom(mp.Labels(pcs_df.columns, fontsize=10))\n",
    "\n",
    "c = (h1 / .2 / h2)\n",
    "c.add_legends(side=\"right\",\n",
    "              stack_by='row', stack_size=2)\n",
    "c.render()"
   ]
  },
  {
   "cell_type": "markdown",
   "id": "6b300a81-e3ec-4dbf-a94c-3a3119ac6e9e",
   "metadata": {},
   "source": [
    "### DE analysis"
   ]
  },
  {
   "cell_type": "code",
   "execution_count": 7,
   "id": "111b934a-2a59-4da7-9244-24ea1be6e908",
   "metadata": {
    "collapsed": true,
    "jupyter": {
     "outputs_hidden": true
    }
   },
   "outputs": [
    {
     "data": {
      "text/plain": [
       "AnnData object with n_obs × n_vars = 7 × 10415\n",
       "    obs: 'sex', 'individual', 'disease', 'cell_type', 'psbulk_n_cells', 'psbulk_counts'\n",
       "    var: 'ensembl_gene_id', 'highly_variable', 'means', 'dispersions', 'dispersions_norm', 'highly_variable_nbatches', 'highly_variable_intersection', 'mean', 'std'\n",
       "    layers: 'psbulk_props'"
      ]
     },
     "execution_count": 7,
     "metadata": {},
     "output_type": "execute_result"
    }
   ],
   "source": [
    "# Select T cell profiles\n",
    "tcells = pdata[pdata.obs['cell_type'] == 'T cell'].copy()\n",
    "# Obtain genes that pass the thresholds\n",
    "genes = dc.filter_by_expr(tcells, group='disease', min_count=10, min_total_count=15)\n",
    "# Filter by these genes\n",
    "tcells = tcells[:, genes].copy()\n",
    "tcells"
   ]
  },
  {
   "cell_type": "code",
   "execution_count": 9,
   "id": "0937d896-f396-4aba-bf77-3dc056caa6ab",
   "metadata": {
    "collapsed": true,
    "jupyter": {
     "outputs_hidden": true
    }
   },
   "outputs": [
    {
     "name": "stderr",
     "output_type": "stream",
     "text": [
      "Running Wald tests...\n",
      "... done in 5.63 seconds.\n",
      "\n",
      "Fitting MAP LFCs...\n"
     ]
    },
    {
     "name": "stdout",
     "output_type": "stream",
     "text": [
      "Log2 fold change & Wald test p-value: disease COVID-19 vs normal\n",
      "               baseMean  log2FoldChange     lfcSE      stat    pvalue  \\\n",
      "gene_symbol                                                             \n",
      "A1BG          70.471703       -0.162066  0.141199 -1.147785  0.251057   \n",
      "A2M           36.735027       -1.259308  0.327191 -3.848842  0.000119   \n",
      "A2MP1         15.628274        0.615852  0.766822  0.803122  0.421904   \n",
      "AAAS          18.305878        0.233859  0.363536  0.643290  0.520036   \n",
      "AACS          24.630203        0.216562  0.218214  0.992428  0.320989   \n",
      "...                 ...             ...       ...       ...       ...   \n",
      "ZXDC          30.181501       -0.298363  0.344888 -0.865103  0.386982   \n",
      "ZYG11B       101.884621        0.271063  0.302902  0.894887  0.370847   \n",
      "ZYX           81.599907        0.299973  0.240366  1.247984  0.212037   \n",
      "ZZEF1        820.790100        0.028608  0.233583  0.122474  0.902523   \n",
      "ZZZ3          59.928497       -0.071308  0.287022 -0.248439  0.803795   \n",
      "\n",
      "                 padj  \n",
      "gene_symbol            \n",
      "A1BG         0.613840  \n",
      "A2M          0.006054  \n",
      "A2MP1        0.746875  \n",
      "AAAS         0.809498  \n",
      "AACS         0.675882  \n",
      "...               ...  \n",
      "ZXDC         0.725333  \n",
      "ZYG11B       0.714504  \n",
      "ZYX          0.575515  \n",
      "ZZEF1        0.971216  \n",
      "ZZZ3         0.934558  \n",
      "\n",
      "[10415 rows x 6 columns]\n",
      "Shrunk log2 fold change & Wald test p-value: disease COVID-19 vs normal\n",
      "               baseMean  log2FoldChange     lfcSE      stat    pvalue  \\\n",
      "gene_symbol                                                             \n",
      "A1BG          70.471703       -0.107210  0.133365 -1.147785  0.251057   \n",
      "A2M           36.735027       -1.071456  0.338592 -3.848842  0.000119   \n",
      "A2MP1         15.628274        0.032779  0.290536  0.803122  0.421904   \n",
      "AAAS          18.305878        0.048896  0.237740  0.643290  0.520036   \n",
      "AACS          24.630203       -0.144270  0.455054  0.992428  0.320989   \n",
      "...                 ...             ...       ...       ...       ...   \n",
      "ZXDC          30.181501       -0.068588  0.227849 -0.865103  0.386982   \n",
      "ZYG11B       101.884621        0.076089  0.223025  0.894887  0.370847   \n",
      "ZYX           81.599907        0.124536  0.207951  1.247984  0.212037   \n",
      "ZZEF1        820.790100        0.011497  0.179558  0.122474  0.902523   \n",
      "ZZZ3          59.928497       -0.020562  0.200825 -0.248439  0.803795   \n",
      "\n",
      "                 padj  \n",
      "gene_symbol            \n",
      "A1BG         0.613840  \n",
      "A2M          0.006054  \n",
      "A2MP1        0.746875  \n",
      "AAAS         0.809498  \n",
      "AACS         0.675882  \n",
      "...               ...  \n",
      "ZXDC         0.725333  \n",
      "ZYG11B       0.714504  \n",
      "ZYX          0.575515  \n",
      "ZZEF1        0.971216  \n",
      "ZZZ3         0.934558  \n",
      "\n",
      "[10415 rows x 6 columns]\n"
     ]
    },
    {
     "name": "stderr",
     "output_type": "stream",
     "text": [
      "... done in 19.36 seconds.\n",
      "\n"
     ]
    }
   ],
   "source": [
    "# Import DESeq2\n",
    "from pydeseq2.dds import DeseqDataSet\n",
    "from pydeseq2.ds import DeseqStats\n",
    "# Build DESeq2 object\n",
    "\n",
    "dds = DeseqDataSet(\n",
    "    adata=tcells,\n",
    "    design_factors='disease',\n",
    "    ref_level=['disease', 'normal'],\n",
    "    refit_cooks=True,\n",
    ")\n",
    "# Compute LFCs\n",
    "dds.deseq2()\n",
    "# Extract contrast between COVID-19 vs normal\n",
    "stat_res = DeseqStats(dds, contrast=[\"disease\", 'COVID-19', 'normal'])\n",
    "# Compute Wald test\n",
    "stat_res.summary()\n",
    "# Shrink LFCs\n",
    "stat_res.lfc_shrink(coeff='disease_COVID-19_vs_normal')\n",
    "# Extract results\n",
    "results_df = stat_res.results_df\n",
    "mat = results_df[['stat']].T.rename(index={'stat': 'T cell'})"
   ]
  },
  {
   "cell_type": "code",
   "execution_count": 35,
   "id": "911dfa67-a6e5-4d76-a4dc-301b4cbc11c3",
   "metadata": {},
   "outputs": [
    {
     "name": "stderr",
     "output_type": "stream",
     "text": [
      "Fitting size factors...\n",
      "... done in 0.00 seconds.\n",
      "\n",
      "Fitting dispersions...\n",
      "... done in 58.30 seconds.\n",
      "\n",
      "Fitting dispersion trend curve...\n",
      "... done in 0.26 seconds.\n",
      "\n",
      "Fitting MAP dispersions...\n",
      "... done in 48.32 seconds.\n",
      "\n",
      "Fitting LFCs...\n",
      "... done in 7.74 seconds.\n",
      "\n",
      "Refitting 0 outliers.\n",
      "\n",
      "Running Wald tests...\n",
      "... done in 4.47 seconds.\n",
      "\n",
      "Fitting MAP LFCs...\n"
     ]
    },
    {
     "name": "stdout",
     "output_type": "stream",
     "text": [
      "Log2 fold change & Wald test p-value: disease COVID-19 vs normal\n",
      "               baseMean  log2FoldChange     lfcSE      stat    pvalue  \\\n",
      "gene_symbol                                                             \n",
      "A1BG          34.143665       -0.167697  0.288158 -0.581962  0.560592   \n",
      "AACS           8.592971       -0.081786  0.623640 -0.131143  0.895662   \n",
      "AAGAB         23.659803       -0.191046  0.433204 -0.441007  0.659208   \n",
      "AAK1         120.881950        0.158233  0.159201  0.993925  0.320260   \n",
      "AAMDC          9.092721       -0.260456  0.562932 -0.462678  0.643596   \n",
      "...                 ...             ...       ...       ...       ...   \n",
      "ZSWIM8        23.799789        0.506783  0.300365  1.687224  0.091560   \n",
      "ZXDC          19.237398       -0.036585  0.311928 -0.117287  0.906633   \n",
      "ZYG11B        43.960163        0.194547  0.192817  1.008973  0.312988   \n",
      "ZYX          151.810471        0.438666  0.158342  2.770378  0.005599   \n",
      "ZZEF1        311.208832       -0.140393  0.280033 -0.501344  0.616129   \n",
      "\n",
      "                 padj  \n",
      "gene_symbol            \n",
      "A1BG         0.944730  \n",
      "AACS              NaN  \n",
      "AAGAB        0.967592  \n",
      "AAK1         0.876001  \n",
      "AAMDC             NaN  \n",
      "...               ...  \n",
      "ZSWIM8       0.652081  \n",
      "ZXDC         0.986210  \n",
      "ZYG11B       0.870422  \n",
      "ZYX          0.200408  \n",
      "ZZEF1        0.955967  \n",
      "\n",
      "[8275 rows x 6 columns]\n",
      "Shrunk log2 fold change & Wald test p-value: disease COVID-19 vs normal\n",
      "               baseMean  log2FoldChange     lfcSE      stat    pvalue  \\\n",
      "gene_symbol                                                             \n",
      "A1BG          34.143665       -0.025756  0.157683 -0.581962  0.560592   \n",
      "AACS           8.592971       -0.002967  0.174093 -0.131143  0.895662   \n",
      "AAGAB         23.659803       -0.014014  0.163965 -0.441007  0.659208   \n",
      "AAK1         120.881950        0.063414  0.130224  0.993925  0.320260   \n",
      "AAMDC          9.092721       -0.011605  0.172847 -0.462678  0.643596   \n",
      "...                 ...             ...       ...       ...       ...   \n",
      "ZSWIM8        23.799789        0.089592  0.207399  1.687224  0.091560   \n",
      "ZXDC          19.237398       -0.004737  0.162663 -0.117287  0.906633   \n",
      "ZYG11B        43.960163        0.060528  0.148664  1.008973  0.312988   \n",
      "ZYX          151.810471        0.317142  0.165505  2.770378  0.005599   \n",
      "ZZEF1        311.208832       -0.022718  0.148335 -0.501344  0.616129   \n",
      "\n",
      "                 padj  \n",
      "gene_symbol            \n",
      "A1BG         0.944730  \n",
      "AACS              NaN  \n",
      "AAGAB        0.967592  \n",
      "AAK1         0.876001  \n",
      "AAMDC             NaN  \n",
      "...               ...  \n",
      "ZSWIM8       0.652081  \n",
      "ZXDC         0.986210  \n",
      "ZYG11B       0.870422  \n",
      "ZYX          0.200408  \n",
      "ZZEF1        0.955967  \n",
      "\n",
      "[8275 rows x 6 columns]\n"
     ]
    },
    {
     "name": "stderr",
     "output_type": "stream",
     "text": [
      "... done in 16.40 seconds.\n",
      "\n"
     ]
    }
   ],
   "source": [
    "def run_deseq(adat, celltype):\n",
    "    dds = DeseqDataSet(\n",
    "        adata=adat,\n",
    "        design_factors='disease',\n",
    "        ref_level=['disease', 'normal'],\n",
    "        refit_cooks=True,\n",
    "    )\n",
    "    # Compute LFCs\n",
    "    dds.deseq2()\n",
    "    # Extract contrast between COVID-19 vs normal\n",
    "    stat_res = DeseqStats(dds, contrast=[\"disease\", 'COVID-19', 'normal'])\n",
    "    # Compute Wald test\n",
    "    stat_res.summary()\n",
    "    # Shrink LFCs\n",
    "    stat_res.lfc_shrink(coeff='disease_COVID-19_vs_normal')\n",
    "    # Extract results\n",
    "    results_df = stat_res.results_df\n",
    "    mat = results_df[['stat']].T.rename(index={'stat': celltype})\n",
    "    return mat, results_df\n",
    "\n",
    "# Select T cell profiles\n",
    "monocytes = pdata[pdata.obs['cell_type'] == 'monocyte'].copy()\n",
    "# Obtain genes that pass the thresholds\n",
    "mono_genes = dc.filter_by_expr(monocytes, group='disease', min_count=10, min_total_count=15)\n",
    "monocytes = monocytes[:, mono_genes].copy()\n",
    "monocytes_mat, monocytes_results_df = run_deseq(monocytes, 'monocyte')"
   ]
  },
  {
   "cell_type": "code",
   "execution_count": 20,
   "id": "3536cf6b-813d-47dd-9338-fb6a89421523",
   "metadata": {},
   "outputs": [
    {
     "data": {
      "text/plain": [
       "((1, 10415), (1, 8275))"
      ]
     },
     "execution_count": 20,
     "metadata": {},
     "output_type": "execute_result"
    }
   ],
   "source": [
    "mat.shape, monocytes_mat.shape"
   ]
  },
  {
   "cell_type": "code",
   "execution_count": 36,
   "id": "d3114712-926b-4c5d-b674-d8657610e5ab",
   "metadata": {},
   "outputs": [],
   "source": [
    "mat.to_csv(\"Tcell_deseq_results.csv\")\n",
    "results_df.to_csv(\"Tcell_deseq_full_results.csv\")\n",
    "\n",
    "monocytes_mat.to_csv(\"Monocytes_deseq_results.csv\")\n",
    "monocytes_results_df.to_csv(\"Monocytes_deseq_full_results.csv\")"
   ]
  },
  {
   "cell_type": "code",
   "execution_count": 27,
   "id": "5ac3fbc6-51da-43dd-a138-3aafe646cd74",
   "metadata": {},
   "outputs": [],
   "source": []
  },
  {
   "cell_type": "markdown",
   "id": "0a1955ec-82f4-49b1-ab7e-196f2ddcc189",
   "metadata": {},
   "source": [
    "### Gene set enrichment analysis"
   ]
  },
  {
   "cell_type": "code",
   "execution_count": 4,
   "id": "67a36605-4186-441a-a8b5-c78c1a414b5d",
   "metadata": {},
   "outputs": [],
   "source": [
    "# load DE results from previous section\n",
    "mat = pd.read_csv(\"Tcell_deseq_results.csv\", index_col=0)\n",
    "results_df = pd.read_csv(\"Tcell_deseq_full_results.csv\", index_col=0)\n",
    "\n",
    "monocytes_mat = pd.read_csv(\"Monocytes_deseq_results.csv\", index_col=0)\n",
    "monocytes_results_df = pd.read_csv(\"Monocytes_deseq_full_results.csv\", index_col=0)"
   ]
  },
  {
   "cell_type": "code",
   "execution_count": 6,
   "id": "595272ed-d6b5-4a24-8195-b5350c9cfa07",
   "metadata": {
    "collapsed": true,
    "jupyter": {
     "outputs_hidden": true
    },
    "scrolled": true
   },
   "outputs": [
    {
     "name": "stderr",
     "output_type": "stream",
     "text": [
      "WARNING:root:Failed to download from `https://omnipathdb.org/`.\n",
      "WARNING:root:Traceback (most recent call last):\n",
      "  File \"/lustre/scratch126/cellgen/team205/sl37/conda_envs/hackathon/lib/python3.9/site-packages/omnipath/_core/downloader/_downloader.py\", line 143, in maybe_download\n",
      "    res = self._download(req)\n",
      "  File \"/lustre/scratch126/cellgen/team205/sl37/conda_envs/hackathon/lib/python3.9/site-packages/omnipath/_core/downloader/_downloader.py\", line 181, in _download\n",
      "    resp.raise_for_status()\n",
      "  File \"/lustre/scratch126/cellgen/team205/sl37/conda_envs/hackathon/lib/python3.9/site-packages/requests/models.py\", line 1021, in raise_for_status\n",
      "    raise HTTPError(http_error_msg, response=self)\n",
      "requests.exceptions.HTTPError: 500 Server Error: Internal Server Error for url: https://omnipathdb.org/queries/enzsub?format=json\n",
      "\n",
      "WARNING:root:Failed to download from `http://no-tls.omnipathdb.org/`.\n",
      "WARNING:root:Traceback (most recent call last):\n",
      "  File \"/lustre/scratch126/cellgen/team205/sl37/conda_envs/hackathon/lib/python3.9/site-packages/omnipath/_core/downloader/_downloader.py\", line 143, in maybe_download\n",
      "    res = self._download(req)\n",
      "  File \"/lustre/scratch126/cellgen/team205/sl37/conda_envs/hackathon/lib/python3.9/site-packages/omnipath/_core/downloader/_downloader.py\", line 181, in _download\n",
      "    resp.raise_for_status()\n",
      "  File \"/lustre/scratch126/cellgen/team205/sl37/conda_envs/hackathon/lib/python3.9/site-packages/requests/models.py\", line 1021, in raise_for_status\n",
      "    raise HTTPError(http_error_msg, response=self)\n",
      "requests.exceptions.HTTPError: 500 Server Error: Internal Server Error for url: http://no-tls.omnipathdb.org/queries/enzsub?format=json\n",
      "\n",
      "WARNING:root:Failed to download from `https://omnipathdb.org/`.\n",
      "WARNING:root:Traceback (most recent call last):\n",
      "  File \"/lustre/scratch126/cellgen/team205/sl37/conda_envs/hackathon/lib/python3.9/site-packages/omnipath/_core/downloader/_downloader.py\", line 143, in maybe_download\n",
      "    res = self._download(req)\n",
      "  File \"/lustre/scratch126/cellgen/team205/sl37/conda_envs/hackathon/lib/python3.9/site-packages/omnipath/_core/downloader/_downloader.py\", line 181, in _download\n",
      "    resp.raise_for_status()\n",
      "  File \"/lustre/scratch126/cellgen/team205/sl37/conda_envs/hackathon/lib/python3.9/site-packages/requests/models.py\", line 1021, in raise_for_status\n",
      "    raise HTTPError(http_error_msg, response=self)\n",
      "requests.exceptions.HTTPError: 500 Server Error: Internal Server Error for url: https://omnipathdb.org/queries/interactions?format=json\n",
      "\n",
      "WARNING:root:Failed to download from `http://no-tls.omnipathdb.org/`.\n",
      "WARNING:root:Traceback (most recent call last):\n",
      "  File \"/lustre/scratch126/cellgen/team205/sl37/conda_envs/hackathon/lib/python3.9/site-packages/omnipath/_core/downloader/_downloader.py\", line 143, in maybe_download\n",
      "    res = self._download(req)\n",
      "  File \"/lustre/scratch126/cellgen/team205/sl37/conda_envs/hackathon/lib/python3.9/site-packages/omnipath/_core/downloader/_downloader.py\", line 181, in _download\n",
      "    resp.raise_for_status()\n",
      "  File \"/lustre/scratch126/cellgen/team205/sl37/conda_envs/hackathon/lib/python3.9/site-packages/requests/models.py\", line 1021, in raise_for_status\n",
      "    raise HTTPError(http_error_msg, response=self)\n",
      "requests.exceptions.HTTPError: 500 Server Error: Internal Server Error for url: http://no-tls.omnipathdb.org/queries/interactions?format=json\n",
      "\n",
      "WARNING:root:Failed to download from `https://omnipathdb.org/`.\n",
      "WARNING:root:Traceback (most recent call last):\n",
      "  File \"/lustre/scratch126/cellgen/team205/sl37/conda_envs/hackathon/lib/python3.9/site-packages/omnipath/_core/downloader/_downloader.py\", line 143, in maybe_download\n",
      "    res = self._download(req)\n",
      "  File \"/lustre/scratch126/cellgen/team205/sl37/conda_envs/hackathon/lib/python3.9/site-packages/omnipath/_core/downloader/_downloader.py\", line 181, in _download\n",
      "    resp.raise_for_status()\n",
      "  File \"/lustre/scratch126/cellgen/team205/sl37/conda_envs/hackathon/lib/python3.9/site-packages/requests/models.py\", line 1021, in raise_for_status\n",
      "    raise HTTPError(http_error_msg, response=self)\n",
      "requests.exceptions.HTTPError: 500 Server Error: Internal Server Error for url: https://omnipathdb.org/queries/annotations?format=json\n",
      "\n",
      "WARNING:root:Failed to download from `http://no-tls.omnipathdb.org/`.\n",
      "WARNING:root:Traceback (most recent call last):\n",
      "  File \"/lustre/scratch126/cellgen/team205/sl37/conda_envs/hackathon/lib/python3.9/site-packages/omnipath/_core/downloader/_downloader.py\", line 143, in maybe_download\n",
      "    res = self._download(req)\n",
      "  File \"/lustre/scratch126/cellgen/team205/sl37/conda_envs/hackathon/lib/python3.9/site-packages/omnipath/_core/downloader/_downloader.py\", line 181, in _download\n",
      "    resp.raise_for_status()\n",
      "  File \"/lustre/scratch126/cellgen/team205/sl37/conda_envs/hackathon/lib/python3.9/site-packages/requests/models.py\", line 1021, in raise_for_status\n",
      "    raise HTTPError(http_error_msg, response=self)\n",
      "requests.exceptions.HTTPError: 500 Server Error: Internal Server Error for url: http://no-tls.omnipathdb.org/queries/annotations?format=json\n",
      "\n",
      "WARNING:root:Failed to download from `https://omnipathdb.org/`.\n",
      "WARNING:root:Traceback (most recent call last):\n",
      "  File \"/lustre/scratch126/cellgen/team205/sl37/conda_envs/hackathon/lib/python3.9/site-packages/omnipath/_core/downloader/_downloader.py\", line 143, in maybe_download\n",
      "    res = self._download(req)\n",
      "  File \"/lustre/scratch126/cellgen/team205/sl37/conda_envs/hackathon/lib/python3.9/site-packages/omnipath/_core/downloader/_downloader.py\", line 181, in _download\n",
      "    resp.raise_for_status()\n",
      "  File \"/lustre/scratch126/cellgen/team205/sl37/conda_envs/hackathon/lib/python3.9/site-packages/requests/models.py\", line 1021, in raise_for_status\n",
      "    raise HTTPError(http_error_msg, response=self)\n",
      "requests.exceptions.HTTPError: 500 Server Error: Internal Server Error for url: https://omnipathdb.org/queries/intercell?format=json\n",
      "\n",
      "WARNING:root:Failed to download from `http://no-tls.omnipathdb.org/`.\n",
      "WARNING:root:Traceback (most recent call last):\n",
      "  File \"/lustre/scratch126/cellgen/team205/sl37/conda_envs/hackathon/lib/python3.9/site-packages/omnipath/_core/downloader/_downloader.py\", line 143, in maybe_download\n",
      "    res = self._download(req)\n",
      "  File \"/lustre/scratch126/cellgen/team205/sl37/conda_envs/hackathon/lib/python3.9/site-packages/omnipath/_core/downloader/_downloader.py\", line 181, in _download\n",
      "    resp.raise_for_status()\n",
      "  File \"/lustre/scratch126/cellgen/team205/sl37/conda_envs/hackathon/lib/python3.9/site-packages/requests/models.py\", line 1021, in raise_for_status\n",
      "    raise HTTPError(http_error_msg, response=self)\n",
      "requests.exceptions.HTTPError: 500 Server Error: Internal Server Error for url: http://no-tls.omnipathdb.org/queries/intercell?format=json\n",
      "\n"
     ]
    },
    {
     "data": {
      "application/vnd.jupyter.widget-view+json": {
       "model_id": "37366e3cb2504db08310d29f55fd7b0c",
       "version_major": 2,
       "version_minor": 0
      },
      "text/plain": [
       "0.00B [00:00, ?B/s]"
      ]
     },
     "metadata": {},
     "output_type": "display_data"
    },
    {
     "name": "stderr",
     "output_type": "stream",
     "text": [
      "WARNING:root:Failed to download from `https://omnipathdb.org/`.\n",
      "WARNING:root:Traceback (most recent call last):\n",
      "  File \"/lustre/scratch126/cellgen/team205/sl37/conda_envs/hackathon/lib/python3.9/site-packages/urllib3/response.py\", line 710, in _error_catcher\n",
      "    yield\n",
      "  File \"/lustre/scratch126/cellgen/team205/sl37/conda_envs/hackathon/lib/python3.9/site-packages/urllib3/response.py\", line 1076, in read_chunked\n",
      "    chunk = self._handle_chunk(amt)\n",
      "  File \"/lustre/scratch126/cellgen/team205/sl37/conda_envs/hackathon/lib/python3.9/site-packages/urllib3/response.py\", line 1018, in _handle_chunk\n",
      "    value = self._fp._safe_read(amt)  # type: ignore[union-attr]\n",
      "  File \"/lustre/scratch126/cellgen/team205/sl37/conda_envs/hackathon/lib/python3.9/http/client.py\", line 628, in _safe_read\n",
      "    raise IncompleteRead(b''.join(s), amt)\n",
      "http.client.IncompleteRead: IncompleteRead(5435 bytes read, 2761 more expected)\n",
      "\n",
      "The above exception was the direct cause of the following exception:\n",
      "\n",
      "Traceback (most recent call last):\n",
      "  File \"/lustre/scratch126/cellgen/team205/sl37/conda_envs/hackathon/lib/python3.9/site-packages/requests/models.py\", line 816, in generate\n",
      "    yield from self.raw.stream(chunk_size, decode_content=True)\n",
      "  File \"/lustre/scratch126/cellgen/team205/sl37/conda_envs/hackathon/lib/python3.9/site-packages/urllib3/response.py\", line 933, in stream\n",
      "    yield from self.read_chunked(amt, decode_content=decode_content)\n",
      "  File \"/lustre/scratch126/cellgen/team205/sl37/conda_envs/hackathon/lib/python3.9/site-packages/urllib3/response.py\", line 1102, in read_chunked\n",
      "    self._original_response.close()\n",
      "  File \"/lustre/scratch126/cellgen/team205/sl37/conda_envs/hackathon/lib/python3.9/contextlib.py\", line 137, in __exit__\n",
      "    self.gen.throw(typ, value, traceback)\n",
      "  File \"/lustre/scratch126/cellgen/team205/sl37/conda_envs/hackathon/lib/python3.9/site-packages/urllib3/response.py\", line 727, in _error_catcher\n",
      "    raise ProtocolError(f\"Connection broken: {e!r}\", e) from e\n",
      "urllib3.exceptions.ProtocolError: ('Connection broken: IncompleteRead(5435 bytes read, 2761 more expected)', IncompleteRead(5435 bytes read, 2761 more expected))\n",
      "\n",
      "During handling of the above exception, another exception occurred:\n",
      "\n",
      "Traceback (most recent call last):\n",
      "  File \"/lustre/scratch126/cellgen/team205/sl37/conda_envs/hackathon/lib/python3.9/site-packages/omnipath/_core/downloader/_downloader.py\", line 143, in maybe_download\n",
      "    res = self._download(req)\n",
      "  File \"/lustre/scratch126/cellgen/team205/sl37/conda_envs/hackathon/lib/python3.9/site-packages/omnipath/_core/downloader/_downloader.py\", line 192, in _download\n",
      "    for chunk in resp.iter_content(chunk_size=self._options.chunk_size):\n",
      "  File \"/lustre/scratch126/cellgen/team205/sl37/conda_envs/hackathon/lib/python3.9/site-packages/requests/models.py\", line 818, in generate\n",
      "    raise ChunkedEncodingError(e)\n",
      "requests.exceptions.ChunkedEncodingError: ('Connection broken: IncompleteRead(5435 bytes read, 2761 more expected)', IncompleteRead(5435 bytes read, 2761 more expected))\n",
      "\n"
     ]
    }
   ],
   "source": [
    "# download database for enrichment analysis\n",
    "collectri = dc.get_collectri(organism='human', split_complexes=False)\n",
    "progeny = dc.get_progeny(top=500)\n",
    "msigdb = dc.get_resource('MSigDB')\n",
    "msigdb = msigdb[msigdb['collection']=='hallmark']\n",
    "msigdb = msigdb[~msigdb.duplicated(['geneset', 'genesymbol'])]\n",
    "msigdb.loc[:, 'geneset'] = [name.split('HALLMARK_')[1] for name in msigdb['geneset']]"
   ]
  },
  {
   "cell_type": "code",
   "execution_count": 31,
   "id": "2996d985-0a9d-44f9-983d-70e5d556e944",
   "metadata": {},
   "outputs": [],
   "source": [
    "def gene_enrichment_results(mat, results_df):\n",
    "    tf_acts, tf_pvals = dc.run_ulm(mat=mat, net=collectri)\n",
    "    tf_df = pd.concat([tf_acts.T.rename({tf_acts.index[0]: 'stats'}, axis=1), \n",
    "                       tf_pvals.T.rename({tf_pvals.index[0]: 'pval'}, axis=1)], \n",
    "                      axis=1)\n",
    "    pathway_acts, pathway_pvals = dc.run_mlm(mat=mat, net=progeny)\n",
    "    pathway_df = pd.concat([pathway_acts.T.rename({pathway_acts.index[0]: 'stats'}, axis=1),\n",
    "                            pathway_pvals.T.rename({pathway_pvals.index[0]: 'pval'}, axis=1)],\n",
    "                           axis=1)\n",
    "    top_genes = results_df[results_df['padj'] < 0.05]\n",
    "    enr_pvals = dc.get_ora_df(\n",
    "        df=top_genes,\n",
    "        net=msigdb,\n",
    "        source='geneset',\n",
    "        target='genesymbol'\n",
    "    ).rename({'FDR p-value': 'pval',\n",
    "              'Odds ratio': 'stats'}, axis=1).set_index('Term')\n",
    "    return {'TF':tf_df, \n",
    "            'pathway':pathway_df, \n",
    "            'gsea':enr_pvals[['pval', 'stats']]}"
   ]
  },
  {
   "cell_type": "code",
   "execution_count": 34,
   "id": "8e356b1e-4d3d-4cce-aaf0-a324fac5b42b",
   "metadata": {},
   "outputs": [],
   "source": [
    "monocyte_res_dic = gene_enrichment_results(\n",
    "    monocytes_mat,\n",
    "    monocytes_results_df\n",
    ")\n",
    "tcell_res_dic = gene_enrichment_results(\n",
    "    mat,\n",
    "    results_df\n",
    ")"
   ]
  },
  {
   "cell_type": "markdown",
   "id": "e252ed7a-18d8-45ba-8476-aaef79568b88",
   "metadata": {},
   "source": [
    "## Visualize enrichment results "
   ]
  },
  {
   "cell_type": "markdown",
   "id": "294f2d93-eba3-463e-b3a6-e3934364faa1",
   "metadata": {},
   "source": [
    "### bar plots"
   ]
  },
  {
   "cell_type": "code",
   "execution_count": 122,
   "id": "31a73639-200e-471e-9a57-58995c47b127",
   "metadata": {},
   "outputs": [
    {
     "data": {
      "image/png": "[encoded data removed]",
      "text/plain": [
       "<Figure size 500x500 with 2 Axes>"
      ]
     },
     "metadata": {},
     "output_type": "display_data"
    }
   ],
   "source": [
    "import seaborn as sns\n",
    "db_name = 'pathway'\n",
    "show_term_numbers = 20\n",
    "\n",
    "monocyte_barplot_df = pd.concat([monocyte_res_dic[db_name]['stats'].sort_values().head(int(show_term_numbers/2)),\n",
    "                monocyte_res_dic[db_name]['stats'].sort_values().tail(int(show_term_numbers/2))], \n",
    "               axis=0).to_frame().reset_index().rename({'index': db_name}, axis=1)\n",
    "monocyte_barplot_df['celltype'] = 'monocyte'\n",
    "tcell_barplot_df = pd.concat([tcell_res_dic[db_name]['stats'].sort_values().head(int(show_term_numbers/2)),\n",
    "                tcell_res_dic[db_name]['stats'].sort_values().tail(int(show_term_numbers/2))], \n",
    "               axis=0).to_frame().reset_index().rename({'index': db_name}, axis=1)\n",
    "tcell_barplot_df['celltype'] = 'tcell'\n",
    "\n",
    "df = pd.concat([monocyte_barplot_df, tcell_barplot_df], axis=0)\n",
    "import matplotlib.pyplot as plt\n",
    "fig, axes = plt.subplots(1, 2, figsize=(5, 5), gridspec_kw={'wspace':0.6})\n",
    "ax1, ax2 = axes\n",
    "for i, celltype in enumerate(list(df['celltype'].unique())):\n",
    "    axes[i].barh(y=df['pathway'][df['celltype'] == celltype],\n",
    "                 width=df['stats'][df['celltype'] == celltype],\n",
    "                )\n",
    "    axes[i].set_title(celltype)\n",
    "    axes[i].spines['top'].set_visible(False)\n",
    "    axes[i].spines['right'].set_visible(False)"
   ]
  },
  {
   "cell_type": "markdown",
   "id": "3c46a145-852f-4231-b81d-ea33d2cdd3a1",
   "metadata": {},
   "source": [
    "### Volcano plots for targets"
   ]
  },
  {
   "cell_type": "code",
   "execution_count": 173,
   "id": "e2ba9f2e-27bf-4c0b-80b8-3de7214cd735",
   "metadata": {},
   "outputs": [
    {
     "data": {
      "image/png": "[encoded data removed]",
      "text/plain": [
       "<Figure size 1000x400 with 2 Axes>"
      ]
     },
     "metadata": {},
     "output_type": "display_data"
    }
   ],
   "source": [
    "source_name = 'JAK-STAT'\n",
    "db_name = 'pathway'\n",
    "\n",
    "def get_targets_de_df(de_results_df, db_source_df):\n",
    "    db_targets = db_source_df[db_source_df['source'] == source_name]['target'].values\n",
    "    targets = list(set(de_results_df.index) & set(db_targets))\n",
    "    targets_de_df = de_results_df.loc[targets]\n",
    "    return targets_de_df\n",
    "\n",
    "targets_de_dic = {}\n",
    "targets_de_dic['monocyte'] = get_targets_de_df(monocytes_results_df, progeny)\n",
    "targets_de_dic['tcell'] = get_targets_de_df(results_df, progeny)\n",
    "\n",
    "fig, axes = plt.subplots(1, 2, figsize=(10, 4), sharey=True, gridspec_kw={'wspace':0.1})\n",
    "ax1, ax2 = axes\n",
    "for i, celltype in enumerate(list(df['celltype'].unique())):\n",
    "    dc.plot_volcano_df(targets_de_dic[celltype], \n",
    "                       x='log2FoldChange', \n",
    "                       y='padj', \n",
    "                       top=5, \n",
    "                       ax=axes[i])\n",
    "    axes[i].set_title(f'{celltype} | {source_name}')\n",
    "    axes[i].spines['right'].set_visible(False)\n",
    "    axes[i].spines['top'].set_visible(False)"
   ]
  },
  {
   "cell_type": "code",
   "execution_count": 190,
   "id": "a4d1b80c-fb46-4e5a-aa33-dea73e142a52",
   "metadata": {},
   "outputs": [],
   "source": [
    "progeny_dic = progeny.set_index(\"target\")['source'].T.to_dict()\n",
    "merged_de_results_df = pd.concat([results_df[['log2FoldChange', 'padj']].add_suffix('_tcell'),\n",
    "           monocytes_results_df[['log2FoldChange', 'padj']].add_suffix('_monocyte')], axis=1)\n",
    "merged_de_results_df['source'] = [progeny_dic.get(x) for x in merged_de_results_df.index]"
   ]
  },
  {
   "cell_type": "code",
   "execution_count": 201,
   "id": "528df0c2-bed5-44ec-9385-9f88c3eec522",
   "metadata": {},
   "outputs": [],
   "source": [
    "merged_de_results_df = merged_de_results_df[~merged_de_results_df['source'].isnull()]\n",
    "sig_results = merged_de_results_df[(merged_de_results_df['padj_tcell'] <= 0.05) | (merged_de_results_df['padj_monocyte'] <= 0.05)]"
   ]
  },
  {
   "cell_type": "code",
   "execution_count": 214,
   "id": "1ad70add-2229-40ff-9570-6b19dfb8a78c",
   "metadata": {},
   "outputs": [],
   "source": [
    "top_sources = sig_results['source'].value_counts().head(5).index\n",
    "top_sig_results = sig_results[sig_results['source'].isin(top_sources)]"
   ]
  },
  {
   "cell_type": "code",
   "execution_count": 239,
   "id": "f0854580-45fb-422a-89d7-8345e8032ecd",
   "metadata": {},
   "outputs": [
    {
     "data": {
      "text/html": [
       "<div>\n",
       "<style scoped>\n",
       "    .dataframe tbody tr th:only-of-type {\n",
       "        vertical-align: middle;\n",
       "    }\n",
       "\n",
       "    .dataframe tbody tr th {\n",
       "        vertical-align: top;\n",
       "    }\n",
       "\n",
       "    .dataframe thead th {\n",
       "        text-align: right;\n",
       "    }\n",
       "</style>\n",
       "<table border=\"1\" class=\"dataframe\">\n",
       "  <thead>\n",
       "    <tr style=\"text-align: right;\">\n",
       "      <th></th>\n",
       "      <th>log2FoldChange_tcell</th>\n",
       "      <th>padj_tcell</th>\n",
       "      <th>log2FoldChange_monocyte</th>\n",
       "      <th>padj_monocyte</th>\n",
       "      <th>source</th>\n",
       "    </tr>\n",
       "    <tr>\n",
       "      <th>gene_symbol</th>\n",
       "      <th></th>\n",
       "      <th></th>\n",
       "      <th></th>\n",
       "      <th></th>\n",
       "      <th></th>\n",
       "    </tr>\n",
       "  </thead>\n",
       "  <tbody>\n",
       "    <tr>\n",
       "      <th>A2M</th>\n",
       "      <td>-1.071456</td>\n",
       "      <td>0.006054</td>\n",
       "      <td>NaN</td>\n",
       "      <td>NaN</td>\n",
       "      <td>PI3K</td>\n",
       "    </tr>\n",
       "    <tr>\n",
       "      <th>ACTA2</th>\n",
       "      <td>-0.586300</td>\n",
       "      <td>0.014460</td>\n",
       "      <td>-0.026469</td>\n",
       "      <td>0.915142</td>\n",
       "      <td>p53</td>\n",
       "    </tr>\n",
       "    <tr>\n",
       "      <th>ACTR3</th>\n",
       "      <td>0.467633</td>\n",
       "      <td>0.009024</td>\n",
       "      <td>0.280297</td>\n",
       "      <td>0.065304</td>\n",
       "      <td>PI3K</td>\n",
       "    </tr>\n",
       "    <tr>\n",
       "      <th>ANAPC7</th>\n",
       "      <td>-0.144270</td>\n",
       "      <td>0.022884</td>\n",
       "      <td>-0.144270</td>\n",
       "      <td>0.709546</td>\n",
       "      <td>Hypoxia</td>\n",
       "    </tr>\n",
       "    <tr>\n",
       "      <th>ANKRD37</th>\n",
       "      <td>-0.848822</td>\n",
       "      <td>0.006319</td>\n",
       "      <td>NaN</td>\n",
       "      <td>NaN</td>\n",
       "      <td>Hypoxia</td>\n",
       "    </tr>\n",
       "  </tbody>\n",
       "</table>\n",
       "</div>"
      ],
      "text/plain": [
       "             log2FoldChange_tcell  padj_tcell  log2FoldChange_monocyte  \\\n",
       "gene_symbol                                                              \n",
       "A2M                     -1.071456    0.006054                      NaN   \n",
       "ACTA2                   -0.586300    0.014460                -0.026469   \n",
       "ACTR3                    0.467633    0.009024                 0.280297   \n",
       "ANAPC7                  -0.144270    0.022884                -0.144270   \n",
       "ANKRD37                 -0.848822    0.006319                      NaN   \n",
       "\n",
       "             padj_monocyte   source  \n",
       "gene_symbol                          \n",
       "A2M                    NaN     PI3K  \n",
       "ACTA2             0.915142      p53  \n",
       "ACTR3             0.065304     PI3K  \n",
       "ANAPC7            0.709546  Hypoxia  \n",
       "ANKRD37                NaN  Hypoxia  "
      ]
     },
     "execution_count": 239,
     "metadata": {},
     "output_type": "execute_result"
    }
   ],
   "source": [
    "top_sig_results.head()"
   ]
  },
  {
   "cell_type": "markdown",
   "id": "3a1984ae-b35e-49e1-aea0-b0a1a4cf7d41",
   "metadata": {},
   "source": [
    "### Concatenation of DE and Enrichment results"
   ]
  },
  {
   "cell_type": "code",
   "execution_count": 254,
   "id": "a04539d5-71ee-4f82-bc7e-fe25d07bad95",
   "metadata": {},
   "outputs": [
    {
     "data": {
      "image/png": "[encoded data removed]",
      "text/plain": [
       "<Figure size 870x190 with 16 Axes>"
      ]
     },
     "metadata": {},
     "output_type": "display_data"
    }
   ],
   "source": [
    "import marsilea as ma\n",
    "import marsilea.plotter as mp\n",
    "\n",
    "h = ma.Heatmap(top_sig_results[['log2FoldChange_tcell', 'log2FoldChange_monocyte']].fillna(0).T, \n",
    "                cmap=\"Blues\", width=8, height=1, name=\"h1\")\n",
    "\n",
    "h.vsplit(labels=top_sig_results['source'],\n",
    "          order=top_sig_results['source'].unique())\n",
    "\n",
    "group_labels = mp.Chunk(list(top_sig_results['source'].unique()),\n",
    "                        sns.color_palette(\"Set2\").as_hex()[:len(top_sig_results['source'].unique())])\n",
    "\n",
    "h.add_top(group_labels, size=.2, pad=.1)\n",
    "\n",
    "\n",
    "celltype_labels = ma.plotter.Labels(['Monocytes', 'T cell'])\n",
    "h.add_left(celltype_labels, size=.2, pad=.1)\n",
    "\n",
    "target_names = ma.plotter.Labels(top_sig_results.index, size=5)\n",
    "h.add_bottom(target_names, size=0.1, pad=.1)\n",
    "\n",
    "sig_df = top_sig_results[['padj_tcell', 'padj_monocyte']].fillna(1)\n",
    "layer1 = mp.MarkerMesh(sig_df.T.values <=0.05, color='Red', marker='.', label=\"Significant\", size=1)\n",
    "h.add_layer(layer1, name='Significance')\n",
    "\n",
    "h.render()"
   ]
  },
  {
   "cell_type": "code",
   "execution_count": null,
   "id": "77b0d684-0d77-4375-b653-3be5f1f9663e",
   "metadata": {},
   "outputs": [],
   "source": []
  },
  {
   "cell_type": "code",
   "execution_count": null,
   "id": "1683913e-bf1b-4171-a406-d289c9b2d0dc",
   "metadata": {},
   "outputs": [],
   "source": []
  }
 ],
 "metadata": {
  "kernelspec": {
   "display_name": "hackathon",
   "language": "python",
   "name": "hackathon"
  },
  "language_info": {
   "codemirror_mode": {
    "name": "ipython",
    "version": 3
   },
   "file_extension": ".py",
   "mimetype": "text/x-python",
   "name": "python",
   "nbconvert_exporter": "python",
   "pygments_lexer": "ipython3",
   "version": "3.9.18"
  }
 },
 "nbformat": 4,
 "nbformat_minor": 5
}
